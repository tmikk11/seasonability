{
 "cells": [
  {
   "cell_type": "code",
   "execution_count": 41,
   "metadata": {},
   "outputs": [],
   "source": [
    "# this notebook cleans data, adds helpful columns, saves as .csv for past 30 years of data"
   ]
  },
  {
   "cell_type": "code",
   "execution_count": 42,
   "metadata": {},
   "outputs": [],
   "source": [
    "# packages\n",
    "import pandas as pd"
   ]
  },
  {
   "cell_type": "code",
   "execution_count": 43,
   "metadata": {},
   "outputs": [],
   "source": [
    "# data is last 30 years of daily highs, mins, and precipitation \n",
    "# for Boston (Logan) and Seattle (Sand Point) \n",
    "# from https://www.ncdc.noaa.gov/cdo-web\n",
    "\n",
    "# Loading data (12/31/2023 wan't readt for seattle yet)\n",
    "seattle = pd.read_csv('seattle_sand_point.csv')\n",
    "seattle.loc[len(seattle.index)] = ['USW00094290', '2023-12-31', 0.06, 40.0, 51.0]\n",
    "boston = pd.read_csv('boston_logan.csv')\n",
    "\n",
    "# Cleaning headers\n",
    "seattle = seattle[['DATE', 'PRCP', 'TMIN', 'TMAX']]\n",
    "seattle.rename(columns={\"DATE\": \"date\", \"PRCP\": \"prcp\", \"TMAX\": \"tmax\", \"TMIN\": \"tmin\"}, inplace=True)\n",
    "boston = boston[['DATE', 'PRCP', 'TMIN', 'TMAX']]\n",
    "boston.rename(columns={\"DATE\": \"date\", \"PRCP\": \"prcp\", \"TMAX\": \"tmax\", \"TMIN\": \"tmin\"}, inplace=True)\n",
    "\n",
    "# Adding date columns\n",
    "seattle['date'] = pd.to_datetime(seattle['date'])\n",
    "seattle['year'] = seattle['date'].dt.year\n",
    "seattle['month'] = seattle['date'].dt.month\n",
    "seattle['day'] = seattle['date'].dt.day\n",
    "seattle['dayyear'] = seattle['date'].dt.dayofyear\n",
    "seattle['season'] = [1 if m in [12,1,2] else 2 if m in [3,4,5] else 3 if m in [6,7,8] else 4 for m in seattle['month']]\n",
    "boston['date'] = pd.to_datetime(boston['date'])\n",
    "boston['year'] = boston['date'].dt.year\n",
    "boston['month'] = boston['date'].dt.month\n",
    "boston['day'] = boston['date'].dt.day\n",
    "boston['dayyear'] = boston['date'].dt.dayofyear\n",
    "boston['season'] = [1 if m in [12,1,2] else 2 if m in [3,4,5] else 3 if m in [6,7,8] else 4 for m in boston['month']]\n",
    "\n",
    "# missing prcp data is all for days with no rainfall\n",
    "boston['prcp'].fillna(value=0, inplace=True)\n",
    "seattle['prcp'].fillna(value=0, inplace=True)\n",
    "\n",
    "# missing temp values for seattle from https://www.wunderground.com/dashboard/pws/KWASEATT232/\n",
    "seattle.at[10014,'tmin'] = 61.0\n",
    "seattle.at[10015,'tmin'] = 57.0\n",
    "seattle.at[10486,'tmin'] = 36.0\n",
    "seattle.at[10487,'tmin'] = 37.0\n",
    "seattle.at[10487,'tmax'] = 53.0\n",
    "seattle.at[10488,'tmin'] = 43.0\n",
    "seattle.at[10488,'tmax'] = 50.0\n",
    "seattle.at[10489,'tmin'] = 38.0\n",
    "seattle.at[10489,'tmax'] = 50.0\n",
    "seattle.at[10490,'tmin'] = 40.0\n",
    "seattle.at[10490,'tmax'] = 57.0\n",
    "\n",
    "# Saving last 30 years to dataframe\n",
    "boston.to_csv('boston_logan_cleaned.csv', index=False)\n",
    "seattle.to_csv('seattle_sand_point_cleaned.csv', index=False)"
   ]
  },
  {
   "cell_type": "code",
   "execution_count": null,
   "metadata": {},
   "outputs": [],
   "source": []
  }
 ],
 "metadata": {
  "kernelspec": {
   "display_name": "Python 3",
   "language": "python",
   "name": "python3"
  },
  "language_info": {
   "codemirror_mode": {
    "name": "ipython",
    "version": 3
   },
   "file_extension": ".py",
   "mimetype": "text/x-python",
   "name": "python",
   "nbconvert_exporter": "python",
   "pygments_lexer": "ipython3",
   "version": "3.7.6"
  }
 },
 "nbformat": 4,
 "nbformat_minor": 4
}
